{
 "cells": [
  {
   "cell_type": "code",
   "execution_count": 124,
   "metadata": {},
   "outputs": [
    {
     "name": "stdout",
     "output_type": "stream",
     "text": [
      "Enter a number: -67\n",
      "Entered number is -67\n",
      "Entered Number is an Negative Number: -67\n"
     ]
    }
   ],
   "source": [
    "# 1: Write a Python program to input a number from the user and check if it is positive, negative or zero. \n",
    "numb=int(input(\"Enter a number: \"))\n",
    "print(\"Entered number is\",numb)\n",
    "if (numb==0):\n",
    "    print (\"Entered Number is Zero. Please Enter another number\")\n",
    "elif (numb<0):\n",
    "    print (\"Entered Number is an Negative Number:\",numb)\n",
    "else:\n",
    "    print (\"Entered Number is an Positive Number:\",numb)"
   ]
  },
  {
   "cell_type": "code",
   "execution_count": 135,
   "metadata": {},
   "outputs": [
    {
     "name": "stdout",
     "output_type": "stream",
     "text": [
      "Enter a number: -4\n",
      "Entered number is -4\n",
      "Entered Number is an Even Number: -4\n"
     ]
    }
   ],
   "source": [
    "# 2: Write a Python Program to Check if a Number is Odd or Even by taking user input. \n",
    "numb=int(input(\"Enter a number: \"))\n",
    "print(\"Entered number is\",numb)\n",
    "if (numb==0):\n",
    "    print (\"Entered Number is = 0\",numb)\n",
    "elif (numb%2==0):\n",
    "    print (\"Entered Number is an Even Number:\",numb)\n",
    "else:\n",
    "    print (\"Entered Number is an Odd Number:\",numb)"
   ]
  },
  {
   "cell_type": "code",
   "execution_count": 179,
   "metadata": {},
   "outputs": [
    {
     "name": "stdout",
     "output_type": "stream",
     "text": [
      "Enter start year: 2019\n",
      "2019 is not a Leap Year\n"
     ]
    }
   ],
   "source": [
    "# 3: Write a Python Program to input a year with century and \n",
    "#check if it is Leap Year or \n",
    "#print invalid if it is not in the form of year with century. \n",
    "\n",
    "Year = int(input(\"Enter start year: \"))\n",
    "if(Year%400==0)or((Year%4==0)and(Year!=0)):\n",
    "    print (Year, \"is a Leap Year\")\n",
    "else:\n",
    "    print (Year, \"is not a Leap Year\")\n",
    "\n"
   ]
  },
  {
   "cell_type": "code",
   "execution_count": 200,
   "metadata": {},
   "outputs": [
    {
     "name": "stdout",
     "output_type": "stream",
     "text": [
      "Enter 3 Numbers:4 5 2\n",
      "Entered number 1 is:  4\n",
      "Entered number 2 is:  5\n",
      "Entered number 3 is:  2\n",
      "Entered Number: 5 is Biggest\n"
     ]
    }
   ],
   "source": [
    "# 4a: Write a Python Program to Find the Largest Among Three Numbers, using the least number of lines of code. \n",
    "#.split() is a function used to provide a gap/space between the numbers entered\n",
    "a,b,c = input(\"Enter 3 Numbers:\").split()\n",
    "print(\"Entered number 1 is: \",a)\n",
    "print(\"Entered number 2 is: \",b)\n",
    "print(\"Entered number 3 is: \",c)\n",
    "if(a>b)and(a>c):\n",
    "    print(\"Entered Number:\",a,\"is Biggest\")\n",
    "elif(b>a)and(b>c):\n",
    "    print(\"Entered Number:\",b,\"is Biggest\")\n",
    "else:\n",
    "    print(\"Entered Number:\",c,\"is Biggest\")"
   ]
  },
  {
   "cell_type": "code",
   "execution_count": 162,
   "metadata": {},
   "outputs": [
    {
     "name": "stdout",
     "output_type": "stream",
     "text": [
      "Please enter a positive numberaug\n",
      "Entered Number is: aug\n"
     ]
    },
    {
     "ename": "TypeError",
     "evalue": "'>' not supported between instances of 'str' and 'int'",
     "output_type": "error",
     "traceback": [
      "\u001b[1;31m---------------------------------------------------------------------------\u001b[0m",
      "\u001b[1;31mTypeError\u001b[0m                                 Traceback (most recent call last)",
      "\u001b[1;32m<ipython-input-162-e03d4a736e3b>\u001b[0m in \u001b[0;36m<module>\u001b[1;34m()\u001b[0m\n\u001b[0;32m      3\u001b[0m \u001b[0mnumb\u001b[0m\u001b[1;33m=\u001b[0m\u001b[0minput\u001b[0m\u001b[1;33m(\u001b[0m\u001b[1;34m\"Please enter a positive number\"\u001b[0m\u001b[1;33m)\u001b[0m\u001b[1;33m\u001b[0m\u001b[0m\n\u001b[0;32m      4\u001b[0m \u001b[0mprint\u001b[0m\u001b[1;33m(\u001b[0m\u001b[1;34m\"Entered Number is:\"\u001b[0m\u001b[1;33m,\u001b[0m \u001b[0mnumb\u001b[0m\u001b[1;33m)\u001b[0m\u001b[1;33m\u001b[0m\u001b[0m\n\u001b[1;32m----> 5\u001b[1;33m \u001b[1;32mif\u001b[0m \u001b[1;33m(\u001b[0m\u001b[0mnumb\u001b[0m\u001b[1;33m>\u001b[0m\u001b[1;36m1\u001b[0m\u001b[1;33m)\u001b[0m\u001b[1;33m:\u001b[0m\u001b[1;33m\u001b[0m\u001b[0m\n\u001b[0m\u001b[0;32m      6\u001b[0m     \u001b[1;32mfor\u001b[0m \u001b[0mi\u001b[0m \u001b[1;32min\u001b[0m \u001b[0mrange\u001b[0m\u001b[1;33m(\u001b[0m\u001b[1;36m2\u001b[0m\u001b[1;33m,\u001b[0m\u001b[0mint\u001b[0m\u001b[1;33m(\u001b[0m\u001b[0mnumb\u001b[0m\u001b[1;33m)\u001b[0m\u001b[1;33m)\u001b[0m\u001b[1;33m:\u001b[0m\u001b[1;33m\u001b[0m\u001b[0m\n\u001b[0;32m      7\u001b[0m         \u001b[1;32mif\u001b[0m \u001b[1;33m(\u001b[0m\u001b[0mint\u001b[0m\u001b[1;33m(\u001b[0m\u001b[0mnumb\u001b[0m\u001b[1;33m)\u001b[0m\u001b[1;33m%\u001b[0m\u001b[0mi\u001b[0m\u001b[1;33m==\u001b[0m\u001b[1;36m0\u001b[0m\u001b[1;33m)\u001b[0m\u001b[1;33m:\u001b[0m\u001b[1;33m\u001b[0m\u001b[0m\n",
      "\u001b[1;31mTypeError\u001b[0m: '>' not supported between instances of 'str' and 'int'"
     ]
    }
   ],
   "source": [
    "#Write a Python Program to Check if a number is Prime Number or not.\n",
    "\n",
    "numb=input(\"Please enter a positive number\")\n",
    "print(\"Entered Number is:\", numb)\n",
    "if (numb>1):\n",
    "    for i in range(2,int(numb)):\n",
    "        if (int(numb)%i==0):\n",
    "            print(numb,\"Is not a prime Number\")\n",
    "            break\n",
    "        else:\n",
    "            print(numb,\"Is a prime Number\")\n",
    "            print(numb)"
   ]
  },
  {
   "cell_type": "code",
   "execution_count": 143,
   "metadata": {},
   "outputs": [
    {
     "name": "stdout",
     "output_type": "stream",
     "text": [
      "Enter 3 Numbers:-2 -4 -7\n",
      "Entered number 1 is:  -2\n",
      "Entered number 2 is:  -4\n",
      "Entered number 3 is:  -7\n",
      "Please Enter 3 Positive Numbers\n"
     ]
    }
   ],
   "source": [
    "# 4b : Write a Python Program to Find the Largest Among Three Numbers, using the least number of lines of code. \n",
    "#.split() is a function used to provide a gap/space between the numbers entered\n",
    "a,b,c = input(\"Enter 3 Numbers:\").split()\n",
    "print(\"Entered number 1 is: \",a)\n",
    "print(\"Entered number 2 is: \",b)\n",
    "print(\"Entered number 3 is: \",c)\n",
    "\n",
    "if((0<int(a))and(0<int(b))and(0<int(c))):\n",
    "    if(a>b)and(a>c):\n",
    "        print(\"Entered Number:\",a,\"is Greatest\")\n",
    "    elif(b>a)and(b>c):\n",
    "        print(\"Entered Number:\",b,\"is Greatest\")\n",
    "    else:\n",
    "        print(\"Entered Number:\",c,\"is Greatest\")\n",
    "else:\n",
    "    print(\"Please Enter 3 Positive Numbers\")"
   ]
  },
  {
   "cell_type": "code",
   "execution_count": 128,
   "metadata": {},
   "outputs": [
    {
     "name": "stdout",
     "output_type": "stream",
     "text": [
      "Enter a number: 0\n",
      "Number is Zero\n"
     ]
    }
   ],
   "source": [
    "numb=int(input(\"Enter a number: \"))\n",
    "#print(\"Entered number is\",numb)\n",
    "if (numb==0):\n",
    "    print (\"Number is Zero\")\n",
    "elif (numb<0):\n",
    "    print (\"Negative Number\")\n",
    "else:\n",
    "    print (\"Positive Number\")"
   ]
  },
  {
   "cell_type": "code",
   "execution_count": 196,
   "metadata": {},
   "outputs": [
    {
     "name": "stdout",
     "output_type": "stream",
     "text": [
      "Enter Month:Jul\n",
      "Jul\n",
      "31 days\n"
     ]
    }
   ],
   "source": [
    "# 5 : Write a Python program to input a month name and print number of days in it. \n",
    "#Eg., January – 31 \n",
    "#February – 28/29 \n",
    "mon1=(\"Jan\",\"Mar\",\"May\",\"Jul\",\"Aug\",\"Oct\",\"Dec\")\n",
    "mon2=(\"Apr\",\"June\",\"Sept\",\"Nov\")\n",
    "mon3=(\"Feb\")\n",
    "month=input (\"Enter Month:\")\n",
    "print(month)\n",
    "if (month in mon1):\n",
    "    print (\"31 days\")\n",
    "elif (month in mon2):\n",
    "    print (\"30 days\")\n",
    "else:\n",
    "    print (\"28 Days\")"
   ]
  },
  {
   "cell_type": "code",
   "execution_count": 257,
   "metadata": {},
   "outputs": [
    {
     "name": "stdout",
     "output_type": "stream",
     "text": [
      "enter a number : 4\n",
      "multipication table of : 4\n",
      "4 X 1 = 4\n",
      "4 X 2 = 8\n",
      "4 X 3 = 12\n",
      "4 X 4 = 16\n",
      "4 X 5 = 20\n",
      "4 X 6 = 24\n",
      "4 X 7 = 28\n",
      "4 X 8 = 32\n",
      "4 X 9 = 36\n",
      "4 X 10 = 40\n"
     ]
    }
   ],
   "source": [
    "#8. Write a Python Program to Display the multiplication Table by taking the number as input. (Hint : Use print statement inside of a loop) number = int(input(\"enter a number : \"))\n",
    "print(\"multipication table of :\" ,number)\n",
    "for i in range(1,11):\n",
    " print(number,\"X\",i,\"=\",number*i)     "
   ]
  },
  {
   "cell_type": "code",
   "execution_count": 292,
   "metadata": {},
   "outputs": [
    {
     "name": "stdout",
     "output_type": "stream",
     "text": [
      "Enter a Year2019\n",
      "2019-01-01\n",
      "2020-01-01\n",
      "365 days, 0:00:00\n",
      "365\n",
      "Leap Year\n"
     ]
    }
   ],
   "source": [
    "import datetime \n",
    "#year = 2020 \n",
    "year=input(\"Enter a Year\")\n",
    "d1 = datetime.date(int(year), 1, 1) \n",
    "d2 = datetime.date(int(year) + 1, 1, 1)\n",
    "print(d1)\n",
    "print(d2)\n",
    "d3=(d2 - d1)\n",
    "d4=365\n",
    "print(d3)\n",
    "print(d4)\n",
    "if d3!=d4:\n",
    "    print(\"Leap Year\")\n",
    "elif d3:\n",
    "    print (\"Not Leap year\")"
   ]
  },
  {
   "cell_type": "code",
   "execution_count": 290,
   "metadata": {},
   "outputs": [
    {
     "ename": "SyntaxError",
     "evalue": "invalid syntax (<ipython-input-290-352be85ea304>, line 1)",
     "output_type": "error",
     "traceback": [
      "\u001b[1;36m  File \u001b[1;32m\"<ipython-input-290-352be85ea304>\"\u001b[1;36m, line \u001b[1;32m1\u001b[0m\n\u001b[1;33m    6. Write a Python Program to Check if a number is Prime Number or not.\u001b[0m\n\u001b[1;37m           ^\u001b[0m\n\u001b[1;31mSyntaxError\u001b[0m\u001b[1;31m:\u001b[0m invalid syntax\n"
     ]
    }
   ],
   "source": [
    "6. Write a Python Program to Check if a number is Prime Number or not. \n",
    "Also, take the input of a range (min and max) from the user and Print all Prime Numbers that Interval \n",
    "7. Write a Python Program to Find the Factorial of a Number. \n",
    "n! = n * n-1 * n-2 * n-3 * …. *3 * 2 * 1 \n",
    "9. Write a Python Program to Print the Fibonacci sequence. \n",
    "10. Write a Python Program to Find the Sum of Natural Numbers.\n"
   ]
  },
  {
   "cell_type": "code",
   "execution_count": 258,
   "metadata": {},
   "outputs": [
    {
     "name": "stdout",
     "output_type": "stream",
     "text": [
      "2002\n",
      "2009\n",
      "2016\n",
      "2023\n",
      "2037\n",
      "2044\n"
     ]
    }
   ],
   "source": [
    "\n",
    "#1: Write a program which will find all such numbers which are divisible by 7 \n",
    "#   but are not a multiple of 5, between 2000 and 3200 (both included).\n",
    "#Hints: Consider use range(#begin, #end) method\n",
    "for index in range(2000,2050):\n",
    "    if index%7 == 0 and index%5 != 0:\n",
    "        print(index)"
   ]
  },
  {
   "cell_type": "code",
   "execution_count": 262,
   "metadata": {},
   "outputs": [
    {
     "name": "stdout",
     "output_type": "stream",
     "text": [
      "286.0 287.0 288.0 289.0 291.0 292.0\n"
     ]
    }
   ],
   "source": [
    "res=2002/7\n",
    "res1=2009/7\n",
    "res2=2016/7\n",
    "res3=2023/7\n",
    "res4=2037/7\n",
    "res5=2044/7\n",
    "print(res,res1,res2,res3,res4,res5)"
   ]
  },
  {
   "cell_type": "code",
   "execution_count": 297,
   "metadata": {},
   "outputs": [
    {
     "name": "stdout",
     "output_type": "stream",
     "text": [
      "5\n",
      "120\n"
     ]
    }
   ],
   "source": [
    "#2. Write a program which can compute the factorial of a given numbers. \n",
    "#   The results should be printed in a comma-separated sequence on a single line. \n",
    "# input() function can be used for getting user(console) input\n",
    "# raw_input() for python 2.x\n",
    "\n",
    "#Suppose the input is supplied to the program:  8  \n",
    "#Then, the output should be:  40320 \n",
    "#Hints: In case of input data being supplied to the question, it should be assumed to be a console input. \n",
    "\n",
    "n = input()\n",
    "n = int(n)\n",
    "a = 1;\n",
    "for i in range(1, n+1):\n",
    "    a = a * i \n",
    "print(a)"
   ]
  },
  {
   "cell_type": "code",
   "execution_count": null,
   "metadata": {},
   "outputs": [],
   "source": []
  }
 ],
 "metadata": {
  "kernelspec": {
   "display_name": "Python 3",
   "language": "python",
   "name": "python3"
  },
  "language_info": {
   "codemirror_mode": {
    "name": "ipython",
    "version": 3
   },
   "file_extension": ".py",
   "mimetype": "text/x-python",
   "name": "python",
   "nbconvert_exporter": "python",
   "pygments_lexer": "ipython3",
   "version": "3.6.4"
  }
 },
 "nbformat": 4,
 "nbformat_minor": 2
}
